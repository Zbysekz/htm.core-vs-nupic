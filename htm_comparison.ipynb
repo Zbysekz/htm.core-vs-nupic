{
 "cells": [
  {
   "cell_type": "code",
   "execution_count": 3,
   "metadata": {
    "pycharm": {
     "is_executing": true
    }
   },
   "outputs": [],
   "source": [
    "import sys\n",
    "import os\n",
    "import pandas as pd\n",
    "import matplotlib.pyplot as plt\n",
    "sys.path.append(os.path.abspath('../prognostics_benchmark'))\n",
    "from detectors.HTMCoreDetector import HTMCoreDetector\n",
    "from detectors.NupicDetector import NupicDetector"
   ]
  },
  {
   "cell_type": "code",
   "execution_count": null,
   "metadata": {
    "pycharm": {
     "is_executing": true
    }
   },
   "outputs": [],
   "source": [
    "def plot_multi(data, the_ax, show_legend=True, cols=None, spacing=.2, **kwargs):\n",
    "\n",
    "    from pandas import plotting\n",
    "\n",
    "    # Get default color style from pandas - can be changed to any other color list\n",
    "    if cols is None: cols = data.columns\n",
    "    if len(cols) == 0: return\n",
    "    if len(cols) > 10: raise Exception('Up to 10 cols are supported.')\n",
    "    colors = plt.rcParams['axes.prop_cycle'].by_key()['color']\n",
    "\n",
    "    # First axis\n",
    "    ax = data.loc[:, cols[0]].plot(label=cols[0], color=colors[0], ax=the_ax, **kwargs)\n",
    "    ax.set_ylabel(ylabel=cols[0])\n",
    "    ax.set_ylim([0,1])\n",
    "    lines, labels = ax.get_legend_handles_labels()\n",
    "\n",
    "    for n in range(1, len(cols)):\n",
    "        # Multiple y-axes\n",
    "        ax_new = ax.twinx()\n",
    "        ax_new.spines['right'].set_position(('axes', 1 + spacing * (n - 1)))\n",
    "        data.loc[:, cols[n]].plot(ax=ax_new, label=cols[n], color=colors[n % len(colors)], **kwargs)\n",
    "        ax_new.set_ylabel(ylabel=cols[n])\n",
    "\n",
    "        # Proper legend position\n",
    "        line, label = ax_new.get_legend_handles_labels()\n",
    "        lines += line\n",
    "        labels += label\n",
    "\n",
    "    if show_legend is True:\n",
    "        ax.legend(lines, labels, bbox_to_anchor=(-.1, 1))\n",
    "    return ax"
   ]
  },
  {
   "cell_type": "code",
   "execution_count": null,
   "metadata": {
    "pycharm": {
     "is_executing": true
    }
   },
   "outputs": [],
   "source": [
    "def load_and_process(path, Detector, use_datetime_timestamps=True):\n",
    "    df = pd.read_csv(path)\n",
    "\n",
    "    if use_datetime_timestamps is False:\n",
    "        # Convert timestamp to integer\n",
    "        df['timestamp_date'] = pd.to_datetime(df['timestamp'], errors='raise', exact=True)\n",
    "        df.drop('timestamp', inplace=True, axis=1)\n",
    "        min_timestamp = min(df['timestamp_date'])\n",
    "        df['timestamp'] = (df['timestamp_date'].apply(lambda ts: (ts - min_timestamp).total_seconds()) / 300).astype(int)\n",
    "        df.drop('timestamp_date', inplace=True, axis=1)\n",
    "    else:\n",
    "        df['timestamp'] = pd.to_datetime(df['timestamp'], errors='raise', exact=True)\n",
    "    \n",
    "    df.sort_values(by='timestamp')\n",
    "    \n",
    "    inputMin = df['value'].min()\n",
    "    inputMax = df['value'].max()\n",
    "    probationaryPeriod = 500\n",
    "    \n",
    "    detector = Detector(inputMin=inputMin, inputMax=inputMax, probationaryPeriod=probationaryPeriod)\n",
    "    detector.initialize()\n",
    "    \n",
    "    res = []\n",
    "    for index, row in df.iterrows():\n",
    "        val = row.value\n",
    "        ts = row.timestamp\n",
    "\n",
    "        anomaly_score, raw = detector.handleRecord(ts, val)\n",
    "        res.append({'index': ts, 'anomaly_score': anomaly_score, 'val': val})\n",
    "    df_res = pd.DataFrame(res)\n",
    "    df_res.set_index('index', drop=True, inplace=True)\n",
    "    return df_res"
   ]
  },
  {
   "cell_type": "code",
   "execution_count": null,
   "metadata": {
    "pycharm": {
     "is_executing": true
    },
    "scrolled": false
   },
   "outputs": [],
   "source": [
    "nrows=6\n",
    "ncols=2\n",
    "figsize=10\n",
    "fig, axs = plt.subplots(nrows=nrows, ncols=ncols, figsize=(ncols*figsize,nrows*figsize))\n",
    "for idx, datafile in enumerate(sorted(os.scandir(os.path.join('data')), key=lambda e: e.name)):\n",
    "    row = axs[idx]\n",
    "    df_res_nupic = load_and_process(datafile.path, NupicDetector)\n",
    "    plot_multi(df_res_nupic, title=datafile.name + ' - Nupic', alpha=0.7, the_ax=row[0], show_legend=True)\n",
    "    df_res_htmcore = load_and_process(datafile.path, HTMCoreDetector)\n",
    "    plot_multi(df_res_htmcore, title=datafile.name + ' - HTMCore', alpha=0.7, the_ax=row[1], show_legend=False)\n",
    "plt.show()\n",
    "fig.savefig(os.path.join('output', 'htm_impl_comparison.pdf'), bbox_inches='tight')"
   ]
  },
  {
   "cell_type": "markdown",
   "metadata": {
    "pycharm": {
     "is_executing": true
    }
   },
   "source": [
    "## Param optimization"
   ]
  },
  {
   "cell_type": "code",
   "execution_count": 1,
   "metadata": {},
   "outputs": [],
   "source": [
    "import jsonlines"
   ]
  },
  {
   "cell_type": "code",
   "execution_count": 10,
   "metadata": {},
   "outputs": [
    {
     "data": {
      "text/html": [
       "<div>\n",
       "<style scoped>\n",
       "    .dataframe tbody tr th:only-of-type {\n",
       "        vertical-align: middle;\n",
       "    }\n",
       "\n",
       "    .dataframe tbody tr th {\n",
       "        vertical-align: top;\n",
       "    }\n",
       "\n",
       "    .dataframe thead th {\n",
       "        text-align: right;\n",
       "    }\n",
       "</style>\n",
       "<table border=\"1\" class=\"dataframe\">\n",
       "  <thead>\n",
       "    <tr style=\"text-align: right;\">\n",
       "      <th></th>\n",
       "      <th>target</th>\n",
       "      <th>localAreaDensity</th>\n",
       "    </tr>\n",
       "  </thead>\n",
       "  <tbody>\n",
       "    <tr>\n",
       "      <th>0</th>\n",
       "      <td>22.833293</td>\n",
       "      <td>0.01</td>\n",
       "    </tr>\n",
       "    <tr>\n",
       "      <th>1</th>\n",
       "      <td>58.880172</td>\n",
       "      <td>0.02</td>\n",
       "    </tr>\n",
       "    <tr>\n",
       "      <th>2</th>\n",
       "      <td>60.011983</td>\n",
       "      <td>0.03</td>\n",
       "    </tr>\n",
       "    <tr>\n",
       "      <th>3</th>\n",
       "      <td>55.296150</td>\n",
       "      <td>0.04</td>\n",
       "    </tr>\n",
       "    <tr>\n",
       "      <th>4</th>\n",
       "      <td>55.190696</td>\n",
       "      <td>0.05</td>\n",
       "    </tr>\n",
       "  </tbody>\n",
       "</table>\n",
       "</div>"
      ],
      "text/plain": [
       "      target  localAreaDensity\n",
       "0  22.833293              0.01\n",
       "1  58.880172              0.02\n",
       "2  60.011983              0.03\n",
       "3  55.296150              0.04\n",
       "4  55.190696              0.05"
      ]
     },
     "execution_count": 10,
     "metadata": {},
     "output_type": "execute_result"
    }
   ],
   "source": [
    "data = []\n",
    "with jsonlines.open('local_area_density_optimization_logs_base.json') as reader:\n",
    "    for obj in reader:\n",
    "        res_obj = {\n",
    "            'target': obj.get('target'),\n",
    "            'localAreaDensity': obj.get('params').get('localAreaDensity')\n",
    "        }\n",
    "        data.append(res_obj)\n",
    "df_optimization_logs = pd.DataFrame(data)\n",
    "df_optimization_logs.head()"
   ]
  },
  {
   "cell_type": "code",
   "execution_count": 13,
   "metadata": {},
   "outputs": [
    {
     "data": {
      "image/png": "[encoded data removed]",
      "text/plain": [
       "<Figure size 432x288 with 1 Axes>"
      ]
     },
     "metadata": {
      "needs_background": "light"
     },
     "output_type": "display_data"
    }
   ],
   "source": [
    "plot = df_optimization_logs.plot.scatter(x='localAreaDensity', y='target')"
   ]
  },
  {
   "cell_type": "code",
   "execution_count": 15,
   "metadata": {},
   "outputs": [],
   "source": [
    "fig = plot.get_figure()\n",
    "fig.savefig(os.path.join('output', 'optimization_logs.png'))"
   ]
  },
  {
   "cell_type": "code",
   "execution_count": null,
   "metadata": {},
   "outputs": [],
   "source": []
  }
 ],
 "metadata": {
  "kernelspec": {
   "display_name": "Python 3",
   "language": "python",
   "name": "python3"
  },
  "language_info": {
   "codemirror_mode": {
    "name": "ipython",
    "version": 3
   },
   "file_extension": ".py",
   "mimetype": "text/x-python",
   "name": "python",
   "nbconvert_exporter": "python",
   "pygments_lexer": "ipython3",
   "version": "3.7.7"
  }
 },
 "nbformat": 4,
 "nbformat_minor": 1
}
